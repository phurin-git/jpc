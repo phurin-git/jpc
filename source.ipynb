{
 "cells": [
  {
   "cell_type": "markdown",
   "metadata": {},
   "source": [
    "จงเขียนฟังก์ชันชื่อว่า **find_most_frequent_number** ที่รับอินพุตดังต่อไปนี้ (ตามลำดับ):\n",
    "\n",
    "1. **text:** string ที่ประกอบไปด้วยตัวเลขและจุดทศนิยมเท่านั้น เช่น \"12345.6643.930\" หรือ \"3674920224\" หรือ \".32.3.9.139056.99\"\n",
    "2. **length:** ความยาวของ sub-string ที่สนใจ (มีค่าอย่างน้อย 1)\n",
    "\n",
    "แล้วทำการนับจำนวน sub-string ของ **text** ที่มีความยาวเท่ากับ **length** แล้วคืนคำ sub-string ที่ปรากฎขึ้นบ่อยที่สุด โดยให้มองข้าม sub-string ที่มีความถี่เท่ากัน ให้เลือกตอบตัว string ที่มีค่าเชิงคณิตศาสตร์มากกว่า\n",
    "\n",
    "ถ้าหาก **text** มีความยาวน้อยกว่า **length** หรือไม่มีคำตอบที่\n",
    "เหมาะสม, ให้คืนค่า \"\" (string ว่าง)\n",
    "\n",
    "===== Example =====\n",
    "```bash\n",
    "[20]:('0.98129813981.398',3)=>'981'\n",
    "[20]:('0.98129813981.398',4)=>'9813'\n",
    "[20]:(100.456.100.456.100.456,4)=) '456.'\n",
    "[20]:('48945837394940102943518',2)=>'94'\n",
    "[20]:(1234567890.0987654321',3)=>'987'\n",
    "```"
   ]
  },
  {
   "cell_type": "code",
   "execution_count": null,
   "metadata": {},
   "outputs": [],
   "source": [
    "from collections import Counter\n",
    "\n",
    "def find_most_frequent_number(text, length):\n",
    "    # ตรวจสอบความยาวของ text กับ length\n",
    "    if len(text) < length:\n",
    "        return \"\"\n",
    "    \n",
    "    # สร้าง sub-strings ที่มีความยาวเท่ากับ length\n",
    "    substrings = [text[i:i+length] for i in range(len(text) - length + 1)]\n",
    "    \n",
    "    # กรอง sub-strings ที่มีจุดทศนิยมเกิน 1 จุด\n",
    "    valid_substrings = [s for s in substrings if s.count('.') <= 1]\n",
    "    \n",
    "    # นับความถี่ของ sub-strings ที่เหลืออยู่\n",
    "    counts = Counter(valid_substrings)\n",
    "    \n",
    "    # หา sub-string ที่มีความถี่สูงที่สุด\n",
    "    if not counts:\n",
    "        return \"\"\n",
    "    \n",
    "    # จัดเรียงโดยความถี่ และหากเท่ากันให้เรียงตามค่าคณิตศาสตร์\n",
    "    most_frequent = max(counts.items(), key=lambda x: (x[1], float(x[0])))\n",
    "    \n",
    "    return most_frequent[0]\n"
   ]
  },
  {
   "cell_type": "markdown",
   "metadata": {},
   "source": [
    "จงเขียนฟังก์ชันชื่อว่า **check_perfect_list** ที่รับอินพุตดังต่อไปนี้:\n",
    "1. list ของจำนวนเต็ม ชื่อว่า **numbers**\n",
    "2. จำนวนเต็มบวกชื่อว่า **distance**\n",
    "แล้วคำนวณว่า list ที่ได้รับมานั้นเป็น **\"perfect list\"** หรือไม่\n",
    "\n",
    "โดยนิยามว่า list ใดๆ นั้นจะถือว่าเป็น **perfect list** เมื่อ\n",
    "สำหรับทุกๆ เลข x ในตำแหน่ง i นั้น เลขที่อยู่ในตำแหน่ง 2i + 1 และ 2i + 2 ต้องมีค่าห่างจาก x ไม่เกิน **distance** (ในกรณีที่ตำแหน่ง 2i + 1 หรือ 2i + 2 ยังอยู่\n",
    "ใน list)\n",
    "\n",
    "===== Example =====\n",
    "```bash\n",
    "[25]:([1,4,3,2,3],3)=>1\n",
    "[25]:([10,2,11],5)=>0\n",
    "[25]:([5,6,13,15,7,10,40], 10)=> 0\n",
    "[25]:([12,20,4,21, 15,10], 8)=>1\n",
    "```"
   ]
  },
  {
   "cell_type": "code",
   "execution_count": null,
   "metadata": {},
   "outputs": [],
   "source": [
    "def check_perfect_list(numbers, distance):\n",
    "    # วนผ่านทุกตำแหน่ง i ใน numbers\n",
    "    for i in range(len(numbers)):\n",
    "        x = numbers[i]\n",
    "        left_child_index = 2 * i + 1\n",
    "        right_child_index = 2 * i + 2\n",
    "        \n",
    "        # ตรวจสอบเงื่อนไขกับตำแหน่งลูกซ้าย (ถ้ามี)\n",
    "        if left_child_index < len(numbers):\n",
    "            if abs(numbers[left_child_index] - x) > distance:\n",
    "                return 0\n",
    "        \n",
    "        # ตรวจสอบเงื่อนไขกับตำแหน่งลูกขวา (ถ้ามี)\n",
    "        if right_child_index < len(numbers):\n",
    "            if abs(numbers[right_child_index] - x) > distance:\n",
    "                return 0\n",
    "                \n",
    "    # ถ้าผ่านเงื่อนไขทั้งหมด คืนค่า 1\n",
    "    return 1\n"
   ]
  },
  {
   "cell_type": "markdown",
   "metadata": {},
   "source": [
    "จงเขียนฟังก์ซันซือว่า **count_string_pairs** ทีรับอินพุตดังต่อไปนี้:\n",
    "1. list ชื่อว่า **strings** เป็น list ที่ประกอบไปด้วย string ไม่\n",
    "ซ้ำกัน\n",
    "2. ตัวเลขจำนวนเต็ม ชื่อว่า **target_length** แล้วคำนวณจำนวนคู่ของ string ใน strings ที่มีผลบวกของความยาวเท่ากับ target_length (ในแต่ละคู่ห้ามใช้ string\n",
    "ซ้ำ)\n",
    "\n",
    "===== Example =====\n",
    "```bash\n",
    "(['abc', 'def', 'wxyz', 'm'], 6)=> 1\n",
    "(['x','dog','cat','penguin','stop'], 4)=> 2\n",
    "(['bed', 'water', 'which','yes', 'win'], 8)=> 6\n",
    "(['long string', 'short string'], 8)=> 0\n",
    "```"
   ]
  },
  {
   "cell_type": "code",
   "execution_count": null,
   "metadata": {},
   "outputs": [],
   "source": [
    "def count_string_pairs(strings, target_length):\n",
    "    count = 0\n",
    "    # ใช้ลูปซ้อนเพื่อตรวจสอบทุกคู่\n",
    "    for i in range(len(strings)):\n",
    "        for j in range(i + 1, len(strings)):  # เริ่มจาก i + 1 เพื่อหลีกเลี่ยงการใช้ string ซ้ำ\n",
    "            if len(strings[i]) + len(strings[j]) == target_length:\n",
    "                count += 1\n",
    "    return count\n",
    "\n",
    "# ตัวอย่างการใช้งาน\n",
    "print(count_string_pairs(['abc', 'def', 'wxyz', 'm'], 6))  # คาดหวังผลลัพธ์: 1\n",
    "print(count_string_pairs(['x', 'dog', 'cat', 'penguin', 'stop'], 4))  # คาดหวังผลลัพธ์: 2\n",
    "print(count_string_pairs(['bed', 'water', 'which', 'yes', 'win'], 8))  # คาดหวังผลลัพธ์: 6\n",
    "print(count_string_pairs(['long string', 'short string'], 8))  # คาดหวังผลลัพธ์: 0\n"
   ]
  },
  {
   "cell_type": "markdown",
   "metadata": {},
   "source": [
    "จงเขียนฟังก์ชันชื่อว่า **count_unique_ascending_numbers** ที่รับตัวแปร string ชื่อว่า stream ที่ประกอบไปด้วยตัวอักษรภาษาอังกฤษและตัวเลข แล้วทำการนับจำนวนตัวเลขที่เป็น \"ascending number\" ที่มีค่าเชิงตัวเลขไม่ซ้ำกันที่ปรากฎใน stream โดยนิยามว่าตัวเลขจำนวนเต็มที่ไม่ติดลบจะนับว่าเป็น ascending number ก็ต่อเมื่อเลขในแต่ละหลักจากช้ายไปขวามีคำเพิ่มขึ้นเสมอ (เช่น 13569)\n",
    "\n",
    "===== Example =====\n",
    "```bash\n",
    "[25]: (\"123ab45z\")=> 2\n",
    "[25]: (\"321ab45z\")=> 1\n",
    "[25]:(\"894x67hello12yy67\")=> 2\n",
    "[25]: (\"4689\")=> 1\n",
    "```"
   ]
  },
  {
   "cell_type": "code",
   "execution_count": null,
   "metadata": {},
   "outputs": [],
   "source": [
    "import re\n",
    "\n",
    "def count_unique_ascending_numbers(stream):\n",
    "    # ใช้ regex เพื่อแยกตัวเลขออกจาก stream\n",
    "    numbers = re.findall(r'\\d+', stream)\n",
    "    unique_ascending_numbers = set()\n",
    "\n",
    "    for number in numbers:\n",
    "        # ตรวจสอบว่า number เป็น ascending number หรือไม่\n",
    "        if is_ascending_number(number):\n",
    "            unique_ascending_numbers.add(int(number))  # เพิ่มเลขในรูปแบบ int เพื่อหลีกเลี่ยงการซ้ำ\n",
    "            \n",
    "    return len(unique_ascending_numbers)\n",
    "\n",
    "def is_ascending_number(number):\n",
    "    # ตรวจสอบว่าเลขใน number เป็น ascending หรือไม่\n",
    "    return all(number[i] < number[i + 1] for i in range(len(number) - 1))\n",
    "\n",
    "# ตัวอย่างการใช้งาน\n",
    "print(count_unique_ascending_numbers(\"123ab45z\"))  # คาดหวังผลลัพธ์: 2\n",
    "print(count_unique_ascending_numbers(\"321ab45z\"))  # คาดหวังผลลัพธ์: 1\n",
    "print(count_unique_ascending_numbers(\"894x67hello12yy67\"))  # คาดหวังผลลัพธ์: 2\n",
    "print(count_unique_ascending_numbers(\"4689\"))  # คาดหวังผลลัพธ์: 1\n"
   ]
  }
 ],
 "metadata": {
  "kernelspec": {
   "display_name": "Python 3",
   "language": "python",
   "name": "python3"
  },
  "language_info": {
   "name": "python",
   "version": "3.13.0"
  }
 },
 "nbformat": 4,
 "nbformat_minor": 2
}
